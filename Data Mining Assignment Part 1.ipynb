{
 "cells": [
  {
   "cell_type": "markdown",
   "metadata": {},
   "source": [
    "# Debbie Cummings 33682370 \n",
    "I worked and submitted alone"
   ]
  },
  {
   "cell_type": "code",
   "execution_count": 9,
   "metadata": {},
   "outputs": [],
   "source": [
    "import pandas as pd\n",
    "import numpy as np\n",
    "import csv"
   ]
  },
  {
   "cell_type": "code",
   "execution_count": 10,
   "metadata": {},
   "outputs": [],
   "source": [
    "# read in the training and test datasets\n",
    "\n",
    "def read_dataset(file_path):\n",
    "    data = []\n",
    "    with open(file_path, 'r') as file:\n",
    "        reader = csv.reader(file)\n",
    "        for row in reader:\n",
    "            data.append(row)\n",
    "    return data"
   ]
  },
  {
   "cell_type": "code",
   "execution_count": 16,
   "metadata": {},
   "outputs": [],
   "source": [
    "# Minkowski distance\n",
    "\n",
    "# def minkowski_distance(train, test, q):\n",
    "#     distance = 0.0\n",
    "#     for i in range(len(train)-1):\n",
    "#         if train[i].isdigit() and test[i].isdigit(): \n",
    "#              # calculates the distance between the training set and test set\n",
    "#             distance += abs(float(train[i]) - float(test[i])) ** q\n",
    "#     return distance ** (1/q)\n",
    "\n",
    "# def minkowski_distance(instance1, instance2, q):\n",
    "#     distance = 0.0\n",
    "#     for i in range(len(instance1)-1):  # Assuming last column is class label\n",
    "#         if instance1[i].isdigit() and instance2[i].isdigit():  # Check if values are numeric\n",
    "#             distance += abs(float(instance1[i]) - float(instance2[i])) ** q\n",
    "#     return distance ** (1/q)\n",
    "\n",
    "def minkowski_distance(train_set, test_set, q):\n",
    "    dist = 0.0\n",
    "    for i in range(len(train_set)-1):\n",
    "        if train_set[i].isdigit() and test_set[i].isdigit():\n",
    "            dist += abs(float(train_set[i]) - float(test_set[i])) ** q\n",
    "    return dist ** (1/q)"
   ]
  },
  {
   "cell_type": "code",
   "execution_count": 21,
   "metadata": {},
   "outputs": [],
   "source": [
    "# Nearest Neighbour\n",
    "\n",
    "def nearest_neighbour(train_data, test_data, q):\n",
    "    min_dist = float('inf')\n",
    "    class_label = None\n",
    "    for train in train_data:\n",
    "        dist = minkowski_distance(train, test_data, q)\n",
    "        # checks if current distance is smaller than the minimum distance\n",
    "        if dist < min_dist: \n",
    "            min_dist = dist \n",
    "            class_label = train[-1]\n",
    "    return class_label"
   ]
  },
  {
   "cell_type": "code",
   "execution_count": 25,
   "metadata": {},
   "outputs": [],
   "source": [
    "# use Nearest Neighbour to label each record in the test_set\n",
    "\n",
    "def predict_class(train_data, test_data, q):\n",
    "    test_labels = []\n",
    "    for test in test_data:\n",
    "        predicted_label = nearest_neighbour(train_data, test_data, q)\n",
    "        test_labels.append(predicted_label)\n",
    "    return test_labels"
   ]
  },
  {
   "cell_type": "code",
   "execution_count": 31,
   "metadata": {},
   "outputs": [],
   "source": [
    "# calculate the accuracy, recall, precision and F1 measure of predicted results\n",
    "\n",
    "def calc_results(true_labels, predicted_labels):\n",
    "    # counts how many true classes and recorded classess = 'M'\n",
    "    true_pos = sum(1 for true, pred in zip(true_labels, predicted_labels) if true == 'M' and pred == 'M')\n",
    "    \n",
    "    # counts how many recorded classes = 'M\n",
    "    pred_pos = sum(1 for label in predicted_labels if label == 'M')\n",
    "        \n",
    "    # counts how many true classes = 'M'\n",
    "    act_pos = sum(1 for label in true_labels if label == 'M')\n",
    "    \n",
    "    accuracy = sum(1 for true, pred in zip(true_labels, predicted_labels) if true == pred) / len(true_labels)\n",
    "    recall = true_pos / act_pos if act_pos != 0 else 0\n",
    "    precision = true_pos / pred_pos if pred_pos != 0 else 0\n",
    "    f1_measure = (2 * precision * recall) / (precision + recall) if precision + recall != 0 else 0\n",
    "\n",
    "    return accuracy, recall, precision, f1_measure"
   ]
  },
  {
   "cell_type": "code",
   "execution_count": 32,
   "metadata": {},
   "outputs": [
    {
     "name": "stdout",
     "output_type": "stream",
     "text": [
      "Results for Minkowski distance with q = 1:\n",
      "Accuracy: 0.014285714285714285\n",
      "Recall: 0.0\n",
      "Precision: 0\n",
      "F1 Measure: 0\n",
      "\n",
      "Results for Minkowski distance with q = 1:\n",
      "Accuracy: 0.014285714285714285\n",
      "Recall: 0.0\n",
      "Precision: 0\n",
      "F1 Measure: 0\n",
      "\n"
     ]
    }
   ],
   "source": [
    "# print results for Manhattan (1) and Euclidean (2) distance\n",
    "\n",
    "training_data = read_dataset('sonar_train.csv')\n",
    "testing_data = read_dataset('sonar_test.csv')\n",
    "q_data = [1,2]\n",
    "\n",
    "for q in q_data:\n",
    "    print(f\"Results for Minkowski distance with q = 1:\")\n",
    "    predictions = predict_class(training_data, testing_data, q)\n",
    "    true_labels = [instance[-1] for instance in testing_data]\n",
    "    accuracy, recall, precision, f1_measure = calc_results(true_labels, predictions)\n",
    "    print(\"Accuracy:\", accuracy)\n",
    "    print(\"Recall:\", recall)\n",
    "    print(\"Precision:\", precision)\n",
    "    print(\"F1 Measure:\", f1_measure)\n",
    "    print()"
   ]
  },
  {
   "cell_type": "code",
   "execution_count": null,
   "metadata": {},
   "outputs": [],
   "source": []
  }
 ],
 "metadata": {
  "kernelspec": {
   "display_name": "Python 3 (ipykernel)",
   "language": "python",
   "name": "python3"
  },
  "language_info": {
   "codemirror_mode": {
    "name": "ipython",
    "version": 3
   },
   "file_extension": ".py",
   "mimetype": "text/x-python",
   "name": "python",
   "nbconvert_exporter": "python",
   "pygments_lexer": "ipython3",
   "version": "3.12.2"
  }
 },
 "nbformat": 4,
 "nbformat_minor": 4
}
